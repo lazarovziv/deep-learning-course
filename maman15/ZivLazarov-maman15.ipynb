{
 "cells": [
  {
   "cell_type": "code",
   "execution_count": 1,
   "id": "f598b609-d546-4d27-a3c7-c9880bc77beb",
   "metadata": {
    "id": "f598b609-d546-4d27-a3c7-c9880bc77beb"
   },
   "outputs": [],
   "source": [
    "import torch\n",
    "from torch import nn"
   ]
  },
  {
   "cell_type": "code",
   "execution_count": 2,
   "id": "811a0c9a-2d18-4bd1-bc3d-ead3936415fc",
   "metadata": {
    "id": "811a0c9a-2d18-4bd1-bc3d-ead3936415fc"
   },
   "outputs": [],
   "source": [
    "# only for the subtract function which we're using for tensor functionality on torch.Size objects\n",
    "import numpy as np"
   ]
  },
  {
   "cell_type": "code",
   "execution_count": 3,
   "id": "cJQkD16TdECI",
   "metadata": {
    "colab": {
     "base_uri": "https://localhost:8080/",
     "height": 35
    },
    "id": "cJQkD16TdECI",
    "outputId": "c063ffa2-58e2-42b1-b509-54aea860e7f4"
   },
   "outputs": [
    {
     "data": {
      "text/plain": [
       "'cuda'"
      ]
     },
     "execution_count": 3,
     "metadata": {},
     "output_type": "execute_result"
    }
   ],
   "source": [
    "device = 'cuda' if torch.cuda.is_available() else 'cpu'\n",
    "device"
   ]
  },
  {
   "cell_type": "markdown",
   "id": "7d26319b-e072-4f94-9d1c-487d7297a81d",
   "metadata": {
    "id": "7d26319b-e072-4f94-9d1c-487d7297a81d"
   },
   "source": [
    "### Q1"
   ]
  },
  {
   "cell_type": "code",
   "execution_count": 4,
   "id": "a214d3dc-0610-4afb-8f2b-d592c4747a2f",
   "metadata": {
    "id": "a214d3dc-0610-4afb-8f2b-d592c4747a2f"
   },
   "outputs": [],
   "source": [
    "class CustomConv2d(nn.Module):\n",
    "    def __init__(self, in_channels=1, out_channels=1,\n",
    "                 kernel_size=(1, 1), stride=1, padding=0):\n",
    "        super().__init__()\n",
    "\n",
    "        self.in_channels = in_channels\n",
    "        self.out_channels = out_channels\n",
    "\n",
    "        if stride < 0:\n",
    "            raise RuntimeError('stride cannot be a negative value!')\n",
    "        if padding < 0:\n",
    "            raise RuntimeError('padding cannot be a negative value!')\n",
    "\n",
    "        self.stride = stride\n",
    "        self.padding = padding\n",
    "\n",
    "        self.kernel = nn.Parameter(\n",
    "            torch.rand((out_channels, in_channels, *kernel_size))\n",
    "        )\n",
    "        # number of parameters for the bias tensor is the number of output channels\n",
    "        self.bias = nn.Parameter(torch.rand((out_channels, )))\n",
    "        # initializaing p,q kernel window sizes for simplicity\n",
    "        self.p, self.q = kernel_size\n",
    "\n",
    "    def forward(self, X):\n",
    "        vertical_padding = torch.zeros((*(X.shape[:-1]), self.padding))\n",
    "        # padding vertically and then padding horizontally. creating a list as it's mutable\n",
    "        horizontal_padding_shape = list((*(X.shape[:-1]), X.shape[-1] + 2 * self.padding))\n",
    "        # changing the relevant axis for padding to the padding size\n",
    "        horizontal_padding_shape[2] = self.padding\n",
    "        horizontal_padding_shape = tuple(horizontal_padding_shape)\n",
    "        # creating the padding tensor\n",
    "        horizontal_padding = torch.zeros(horizontal_padding_shape)\n",
    "        # padding vertically, dim 3 is the columns of the pixels in each channel\n",
    "        X = torch.cat((vertical_padding, torch.cat((X, vertical_padding), dim=3)), dim=3)\n",
    "        # padding horizontally, dim 2 is the rows of the pixels in each channel\n",
    "        X = torch.cat((horizontal_padding, torch.cat((X, horizontal_padding), dim=2)), dim=2)\n",
    "\n",
    "        # expected X shape = (batch_size, n_channels, img_rows+2*padding, img_cols+2*padding)\n",
    "\n",
    "        # getting the shape of the sub tensors\n",
    "        view_shape = tuple(np.subtract(X.shape, self.kernel.shape) + 1) + self.kernel.shape\n",
    "        # getting the strides for which we want to iterate in the batch\n",
    "        strides = X.stride() + X.stride()\n",
    "        # getting all sub tensors with the defined kernel shape\n",
    "        sub_matrices_of_kernel_size = torch.as_strided(X, view_shape, strides)\n",
    "        # getting all sub tensors of kernel size with the stride\n",
    "        sub_matrices_of_kernel_size_strided = sub_matrices_of_kernel_size[:, :, ::self.stride, ::self.stride, ...]\n",
    "        # getting the convolution\n",
    "        convoluted_X = (sub_matrices_of_kernel_size_strided * self.kernel).sum(\n",
    "            # first 4 dimensions of the are batch_size, number of channels, and image channels' shape\n",
    "            dim=(tuple(range(4, 7+1)))\n",
    "        )\n",
    "        # incrementing each channel by the bias\n",
    "        convoluted_X += self.bias\n",
    "\n",
    "        return convoluted_X"
   ]
  },
  {
   "cell_type": "code",
   "execution_count": 5,
   "id": "f71984ec-a307-40e9-9dc8-f2bb27436bc1",
   "metadata": {
    "id": "f71984ec-a307-40e9-9dc8-f2bb27436bc1"
   },
   "outputs": [],
   "source": [
    "import torchvision\n",
    "from torch.utils.data import DataLoader"
   ]
  },
  {
   "cell_type": "code",
   "execution_count": 6,
   "id": "bef75a15-e049-457b-8c07-48ff701c9011",
   "metadata": {
    "id": "bef75a15-e049-457b-8c07-48ff701c9011"
   },
   "outputs": [],
   "source": [
    "train_data_transformed = torchvision.datasets.FashionMNIST(root='./fashion_mnist',\n",
    "                                                           train=True,\n",
    "                                                           download=True,\n",
    "                                                           transform=torchvision.transforms.PILToTensor())\n",
    "\n",
    "train_dataloader = DataLoader(train_data_transformed, batch_size=64)"
   ]
  },
  {
   "cell_type": "code",
   "execution_count": 7,
   "id": "e6fe2f88-b237-42da-92c9-8d58184a0b5c",
   "metadata": {
    "id": "e6fe2f88-b237-42da-92c9-8d58184a0b5c"
   },
   "outputs": [],
   "source": [
    "for batch_idx, (batch_X, batch_y) in enumerate(train_dataloader):\n",
    "    imgs = batch_X\n",
    "    break"
   ]
  },
  {
   "cell_type": "code",
   "execution_count": 8,
   "id": "95f49b6b-87db-41fb-87a3-642335c4daa4",
   "metadata": {
    "colab": {
     "base_uri": "https://localhost:8080/"
    },
    "id": "95f49b6b-87db-41fb-87a3-642335c4daa4",
    "outputId": "595d130b-36a8-4889-867c-6aa34c611bb9"
   },
   "outputs": [
    {
     "data": {
      "text/plain": [
       "torch.Size([64, 1, 28, 28])"
      ]
     },
     "execution_count": 8,
     "metadata": {},
     "output_type": "execute_result"
    }
   ],
   "source": [
    "imgs.shape"
   ]
  },
  {
   "cell_type": "code",
   "execution_count": 9,
   "id": "6fe8155f-6a67-49c3-9a26-6265df8fbb0a",
   "metadata": {
    "id": "6fe8155f-6a67-49c3-9a26-6265df8fbb0a"
   },
   "outputs": [],
   "source": [
    "custom_conv_layer = CustomConv2d(in_channels=1, out_channels=1, kernel_size=(3, 3), stride=2, padding=2)"
   ]
  },
  {
   "cell_type": "code",
   "execution_count": 10,
   "id": "191bef49-8dbb-490c-80b5-e28f4afced30",
   "metadata": {
    "colab": {
     "base_uri": "https://localhost:8080/"
    },
    "id": "191bef49-8dbb-490c-80b5-e28f4afced30",
    "outputId": "15b687bb-542a-46aa-a2b8-bfcb314ff700"
   },
   "outputs": [
    {
     "data": {
      "text/plain": [
       "torch.Size([64, 1, 15, 15])"
      ]
     },
     "execution_count": 10,
     "metadata": {},
     "output_type": "execute_result"
    }
   ],
   "source": [
    "custom_conv_layer(imgs).shape"
   ]
  },
  {
   "cell_type": "code",
   "execution_count": 11,
   "id": "45e6ff31-ff7f-499c-aae2-c4d566bc52d5",
   "metadata": {
    "id": "45e6ff31-ff7f-499c-aae2-c4d566bc52d5"
   },
   "outputs": [],
   "source": [
    "import torchvision.transforms as T"
   ]
  },
  {
   "cell_type": "code",
   "execution_count": 12,
   "id": "af0af5bc-34ae-498a-adbd-c58d6621e4d7",
   "metadata": {
    "colab": {
     "base_uri": "https://localhost:8080/"
    },
    "id": "af0af5bc-34ae-498a-adbd-c58d6621e4d7",
    "outputId": "50d58235-c05e-4f5d-e95c-079f9e9288ce"
   },
   "outputs": [
    {
     "data": {
      "text/plain": [
       "torch.Size([64, 1, 15, 15])"
      ]
     },
     "execution_count": 12,
     "metadata": {},
     "output_type": "execute_result"
    }
   ],
   "source": [
    "conv_layer = nn.Conv2d(in_channels=1, out_channels=1, kernel_size=(3, 3), stride=2, padding=2)\n",
    "conv_layer(imgs.to(torch.float32)).shape"
   ]
  },
  {
   "cell_type": "markdown",
   "id": "30c08972-b6c7-4a03-b454-aac40218d129",
   "metadata": {
    "id": "30c08972-b6c7-4a03-b454-aac40218d129"
   },
   "source": [
    "### Q2"
   ]
  },
  {
   "cell_type": "code",
   "execution_count": null,
   "id": "e0592a95-b627-47ad-bd39-4708320f3955",
   "metadata": {
    "id": "e0592a95-b627-47ad-bd39-4708320f3955"
   },
   "outputs": [],
   "source": []
  },
  {
   "cell_type": "code",
   "execution_count": null,
   "id": "4a6cadbd-7d96-4df4-baf9-78398de5d493",
   "metadata": {
    "id": "4a6cadbd-7d96-4df4-baf9-78398de5d493"
   },
   "outputs": [],
   "source": []
  },
  {
   "cell_type": "code",
   "execution_count": null,
   "id": "ae05c76b-6ae5-4341-97de-3d49359072dc",
   "metadata": {
    "id": "ae05c76b-6ae5-4341-97de-3d49359072dc"
   },
   "outputs": [],
   "source": []
  },
  {
   "cell_type": "markdown",
   "id": "3f79224f-8f81-42fc-a2f3-7bc7ce22f8f3",
   "metadata": {
    "id": "3f79224f-8f81-42fc-a2f3-7bc7ce22f8f3"
   },
   "source": [
    "### Q3"
   ]
  },
  {
   "cell_type": "code",
   "execution_count": 13,
   "id": "5898d35e-9ac1-41e9-927b-a851e08a2ec9",
   "metadata": {
    "colab": {
     "base_uri": "https://localhost:8080/"
    },
    "id": "5898d35e-9ac1-41e9-927b-a851e08a2ec9",
    "outputId": "37f7f698-c17e-4cee-b016-dfc8016295a0"
   },
   "outputs": [
    {
     "name": "stdout",
     "output_type": "stream",
     "text": [
      "Files already downloaded and verified\n"
     ]
    }
   ],
   "source": [
    "cifar10_dataset = torchvision.datasets.CIFAR10(root='./cifar10',\n",
    "                                              train=True,\n",
    "                                              download=True,\n",
    "                                              transform=T.PILToTensor())"
   ]
  },
  {
   "cell_type": "code",
   "execution_count": 14,
   "id": "3a6f56e2-f3e0-4f79-8228-340308e3146a",
   "metadata": {
    "id": "3a6f56e2-f3e0-4f79-8228-340308e3146a"
   },
   "outputs": [],
   "source": [
    "cifar10_dataloader = DataLoader(cifar10_dataset, batch_size=64)"
   ]
  },
  {
   "cell_type": "code",
   "execution_count": 15,
   "id": "a6d1bf89-7d6f-4c5d-ac99-221b47e8213c",
   "metadata": {
    "id": "a6d1bf89-7d6f-4c5d-ac99-221b47e8213c"
   },
   "outputs": [],
   "source": [
    "for batch_idx, (batch_X, batch_y) in enumerate(cifar10_dataloader):\n",
    "    imgs = batch_X\n",
    "    break"
   ]
  },
  {
   "cell_type": "code",
   "execution_count": 16,
   "id": "043b21db-73df-419c-adae-5281ceb2a572",
   "metadata": {
    "colab": {
     "base_uri": "https://localhost:8080/"
    },
    "id": "043b21db-73df-419c-adae-5281ceb2a572",
    "outputId": "53bfbc2c-c63e-4189-86c8-f62494b0fe4f"
   },
   "outputs": [
    {
     "data": {
      "text/plain": [
       "torch.Size([64, 3, 32, 32])"
      ]
     },
     "execution_count": 16,
     "metadata": {},
     "output_type": "execute_result"
    }
   ],
   "source": [
    "imgs.shape"
   ]
  },
  {
   "cell_type": "code",
   "execution_count": 17,
   "id": "57c4f356-54ad-404c-ad85-4a847804daf4",
   "metadata": {
    "id": "57c4f356-54ad-404c-ad85-4a847804daf4"
   },
   "outputs": [],
   "source": [
    "import matplotlib.pyplot as plt"
   ]
  },
  {
   "cell_type": "code",
   "execution_count": 18,
   "id": "c1d7b8e7-e616-4d79-9f31-7d02d12542cc",
   "metadata": {
    "id": "c1d7b8e7-e616-4d79-9f31-7d02d12542cc"
   },
   "outputs": [],
   "source": [
    "img = next(iter(cifar10_dataloader))"
   ]
  },
  {
   "cell_type": "code",
   "execution_count": 19,
   "id": "adb3f671-6685-4713-b36e-108c24cc1559",
   "metadata": {
    "colab": {
     "base_uri": "https://localhost:8080/"
    },
    "id": "adb3f671-6685-4713-b36e-108c24cc1559",
    "outputId": "1cd0407e-dccb-4aaf-c001-b544c8253b85"
   },
   "outputs": [
    {
     "data": {
      "text/plain": [
       "(torch.Size([64, 3, 32, 32]),\n",
       " tensor([6, 9, 9, 4, 1, 1, 2, 7, 8, 3, 4, 7, 7, 2, 9, 9, 9, 3, 2, 6, 4, 3, 6, 6,\n",
       "         2, 6, 3, 5, 4, 0, 0, 9, 1, 3, 4, 0, 3, 7, 3, 3, 5, 2, 2, 7, 1, 1, 1, 2,\n",
       "         2, 0, 9, 5, 7, 9, 2, 2, 5, 2, 4, 3, 1, 1, 8, 2]))"
      ]
     },
     "execution_count": 19,
     "metadata": {},
     "output_type": "execute_result"
    }
   ],
   "source": [
    "img[0].shape, img[1]"
   ]
  },
  {
   "cell_type": "code",
   "execution_count": 20,
   "id": "fdf2a62b-ea6f-4caa-bdb5-df392b5abddf",
   "metadata": {
    "id": "fdf2a62b-ea6f-4caa-bdb5-df392b5abddf"
   },
   "outputs": [],
   "source": [
    "targets = np.array(cifar10_dataset.targets)"
   ]
  },
  {
   "cell_type": "code",
   "execution_count": 21,
   "id": "2456906f-af8a-4c5b-ac97-7731b754fd66",
   "metadata": {
    "colab": {
     "base_uri": "https://localhost:8080/"
    },
    "id": "2456906f-af8a-4c5b-ac97-7731b754fd66",
    "outputId": "e17c3968-f19b-4fef-e99f-91ea284b664b"
   },
   "outputs": [
    {
     "data": {
      "text/plain": [
       "numpy.ndarray"
      ]
     },
     "execution_count": 21,
     "metadata": {},
     "output_type": "execute_result"
    }
   ],
   "source": [
    "type(targets)"
   ]
  },
  {
   "cell_type": "markdown",
   "id": "81ce625c-f824-4df6-8758-5a4a795bebec",
   "metadata": {
    "id": "81ce625c-f824-4df6-8758-5a4a795bebec"
   },
   "source": [
    "#### Plotting image from every class"
   ]
  },
  {
   "cell_type": "code",
   "execution_count": 22,
   "id": "53dd51ba-a078-4c68-a6ec-f1de787a26b6",
   "metadata": {
    "colab": {
     "base_uri": "https://localhost:8080/",
     "height": 1000
    },
    "id": "53dd51ba-a078-4c68-a6ec-f1de787a26b6",
    "outputId": "c44d86b5-4499-4e5f-8848-37fd5f3e22ef"
   },
   "outputs": [
    {
     "data": {
      "image/png": "[encoded data removed]",
      "text/plain": [
       "<Figure size 1000x1000 with 20 Axes>"
      ]
     },
     "metadata": {},
     "output_type": "display_data"
    }
   ],
   "source": [
    "fig = plt.figure(constrained_layout=True, figsize=(10, 10))\n",
    "# creating the subfigures\n",
    "subfigs = fig.subfigures(5, 2)\n",
    "\n",
    "for class_idx, subfig in enumerate(subfigs.flat):\n",
    "    subfig.suptitle(f'Class {class_idx}')\n",
    "    # getting the subfigure axes and plotting\n",
    "    axes = subfig.subplots(1, 2)\n",
    "    axes[0].imshow(cifar10_dataset.data[np.where(targets == class_idx)][0])\n",
    "    axes[1].imshow(cifar10_dataset.data[np.where(targets == class_idx)][1])"
   ]
  },
  {
   "cell_type": "markdown",
   "id": "336af5b1-2258-4970-a974-1313d41eed02",
   "metadata": {
    "id": "336af5b1-2258-4970-a974-1313d41eed02"
   },
   "source": [
    "#### Importing the ResNet18 pretrained model"
   ]
  },
  {
   "cell_type": "code",
   "execution_count": 23,
   "id": "d0b9ae34-dd66-4821-9b89-3a30d71138f2",
   "metadata": {
    "id": "d0b9ae34-dd66-4821-9b89-3a30d71138f2"
   },
   "outputs": [],
   "source": [
    "import torchvision.models as models"
   ]
  },
  {
   "cell_type": "code",
   "execution_count": 24,
   "id": "8e7bd499-d2f0-4273-bce0-638fb7d5b296",
   "metadata": {
    "colab": {
     "base_uri": "https://localhost:8080/"
    },
    "id": "8e7bd499-d2f0-4273-bce0-638fb7d5b296",
    "outputId": "4eb96cbf-54cd-497a-f249-b1cf3568089b"
   },
   "outputs": [
    {
     "name": "stderr",
     "output_type": "stream",
     "text": [
      "/home/zivlazarov/.local/lib/python3.12/site-packages/torchvision/models/_utils.py:208: UserWarning: The parameter 'pretrained' is deprecated since 0.13 and may be removed in the future, please use 'weights' instead.\n",
      "  warnings.warn(\n",
      "/home/zivlazarov/.local/lib/python3.12/site-packages/torchvision/models/_utils.py:223: UserWarning: Arguments other than a weight enum or `None` for 'weights' are deprecated since 0.13 and may be removed in the future. The current behavior is equivalent to passing `weights=ResNet18_Weights.IMAGENET1K_V1`. You can also use `weights=ResNet18_Weights.DEFAULT` to get the most up-to-date weights.\n",
      "  warnings.warn(msg)\n"
     ]
    }
   ],
   "source": [
    "resnet18 = models.resnet18(pretrained=True)"
   ]
  },
  {
   "cell_type": "code",
   "execution_count": 25,
   "id": "17665306-b63a-4d3d-8af2-4cd0c90ad6c9",
   "metadata": {
    "colab": {
     "base_uri": "https://localhost:8080/"
    },
    "id": "17665306-b63a-4d3d-8af2-4cd0c90ad6c9",
    "outputId": "71aea3cf-78c4-4f17-dc86-3680b9d6053f",
    "scrolled": true
   },
   "outputs": [
    {
     "name": "stdout",
     "output_type": "stream",
     "text": [
      ": ResNet(\n",
      "  (conv1): Conv2d(3, 64, kernel_size=(7, 7), stride=(2, 2), padding=(3, 3), bias=False)\n",
      "  (bn1): BatchNorm2d(64, eps=1e-05, momentum=0.1, affine=True, track_running_stats=True)\n",
      "  (relu): ReLU(inplace=True)\n",
      "  (maxpool): MaxPool2d(kernel_size=3, stride=2, padding=1, dilation=1, ceil_mode=False)\n",
      "  (layer1): Sequential(\n",
      "    (0): BasicBlock(\n",
      "      (conv1): Conv2d(64, 64, kernel_size=(3, 3), stride=(1, 1), padding=(1, 1), bias=False)\n",
      "      (bn1): BatchNorm2d(64, eps=1e-05, momentum=0.1, affine=True, track_running_stats=True)\n",
      "      (relu): ReLU(inplace=True)\n",
      "      (conv2): Conv2d(64, 64, kernel_size=(3, 3), stride=(1, 1), padding=(1, 1), bias=False)\n",
      "      (bn2): BatchNorm2d(64, eps=1e-05, momentum=0.1, affine=True, track_running_stats=True)\n",
      "    )\n",
      "    (1): BasicBlock(\n",
      "      (conv1): Conv2d(64, 64, kernel_size=(3, 3), stride=(1, 1), padding=(1, 1), bias=False)\n",
      "      (bn1): BatchNorm2d(64, eps=1e-05, momentum=0.1, affine=True, track_running_stats=True)\n",
      "      (relu): ReLU(inplace=True)\n",
      "      (conv2): Conv2d(64, 64, kernel_size=(3, 3), stride=(1, 1), padding=(1, 1), bias=False)\n",
      "      (bn2): BatchNorm2d(64, eps=1e-05, momentum=0.1, affine=True, track_running_stats=True)\n",
      "    )\n",
      "  )\n",
      "  (layer2): Sequential(\n",
      "    (0): BasicBlock(\n",
      "      (conv1): Conv2d(64, 128, kernel_size=(3, 3), stride=(2, 2), padding=(1, 1), bias=False)\n",
      "      (bn1): BatchNorm2d(128, eps=1e-05, momentum=0.1, affine=True, track_running_stats=True)\n",
      "      (relu): ReLU(inplace=True)\n",
      "      (conv2): Conv2d(128, 128, kernel_size=(3, 3), stride=(1, 1), padding=(1, 1), bias=False)\n",
      "      (bn2): BatchNorm2d(128, eps=1e-05, momentum=0.1, affine=True, track_running_stats=True)\n",
      "      (downsample): Sequential(\n",
      "        (0): Conv2d(64, 128, kernel_size=(1, 1), stride=(2, 2), bias=False)\n",
      "        (1): BatchNorm2d(128, eps=1e-05, momentum=0.1, affine=True, track_running_stats=True)\n",
      "      )\n",
      "    )\n",
      "    (1): BasicBlock(\n",
      "      (conv1): Conv2d(128, 128, kernel_size=(3, 3), stride=(1, 1), padding=(1, 1), bias=False)\n",
      "      (bn1): BatchNorm2d(128, eps=1e-05, momentum=0.1, affine=True, track_running_stats=True)\n",
      "      (relu): ReLU(inplace=True)\n",
      "      (conv2): Conv2d(128, 128, kernel_size=(3, 3), stride=(1, 1), padding=(1, 1), bias=False)\n",
      "      (bn2): BatchNorm2d(128, eps=1e-05, momentum=0.1, affine=True, track_running_stats=True)\n",
      "    )\n",
      "  )\n",
      "  (layer3): Sequential(\n",
      "    (0): BasicBlock(\n",
      "      (conv1): Conv2d(128, 256, kernel_size=(3, 3), stride=(2, 2), padding=(1, 1), bias=False)\n",
      "      (bn1): BatchNorm2d(256, eps=1e-05, momentum=0.1, affine=True, track_running_stats=True)\n",
      "      (relu): ReLU(inplace=True)\n",
      "      (conv2): Conv2d(256, 256, kernel_size=(3, 3), stride=(1, 1), padding=(1, 1), bias=False)\n",
      "      (bn2): BatchNorm2d(256, eps=1e-05, momentum=0.1, affine=True, track_running_stats=True)\n",
      "      (downsample): Sequential(\n",
      "        (0): Conv2d(128, 256, kernel_size=(1, 1), stride=(2, 2), bias=False)\n",
      "        (1): BatchNorm2d(256, eps=1e-05, momentum=0.1, affine=True, track_running_stats=True)\n",
      "      )\n",
      "    )\n",
      "    (1): BasicBlock(\n",
      "      (conv1): Conv2d(256, 256, kernel_size=(3, 3), stride=(1, 1), padding=(1, 1), bias=False)\n",
      "      (bn1): BatchNorm2d(256, eps=1e-05, momentum=0.1, affine=True, track_running_stats=True)\n",
      "      (relu): ReLU(inplace=True)\n",
      "      (conv2): Conv2d(256, 256, kernel_size=(3, 3), stride=(1, 1), padding=(1, 1), bias=False)\n",
      "      (bn2): BatchNorm2d(256, eps=1e-05, momentum=0.1, affine=True, track_running_stats=True)\n",
      "    )\n",
      "  )\n",
      "  (layer4): Sequential(\n",
      "    (0): BasicBlock(\n",
      "      (conv1): Conv2d(256, 512, kernel_size=(3, 3), stride=(2, 2), padding=(1, 1), bias=False)\n",
      "      (bn1): BatchNorm2d(512, eps=1e-05, momentum=0.1, affine=True, track_running_stats=True)\n",
      "      (relu): ReLU(inplace=True)\n",
      "      (conv2): Conv2d(512, 512, kernel_size=(3, 3), stride=(1, 1), padding=(1, 1), bias=False)\n",
      "      (bn2): BatchNorm2d(512, eps=1e-05, momentum=0.1, affine=True, track_running_stats=True)\n",
      "      (downsample): Sequential(\n",
      "        (0): Conv2d(256, 512, kernel_size=(1, 1), stride=(2, 2), bias=False)\n",
      "        (1): BatchNorm2d(512, eps=1e-05, momentum=0.1, affine=True, track_running_stats=True)\n",
      "      )\n",
      "    )\n",
      "    (1): BasicBlock(\n",
      "      (conv1): Conv2d(512, 512, kernel_size=(3, 3), stride=(1, 1), padding=(1, 1), bias=False)\n",
      "      (bn1): BatchNorm2d(512, eps=1e-05, momentum=0.1, affine=True, track_running_stats=True)\n",
      "      (relu): ReLU(inplace=True)\n",
      "      (conv2): Conv2d(512, 512, kernel_size=(3, 3), stride=(1, 1), padding=(1, 1), bias=False)\n",
      "      (bn2): BatchNorm2d(512, eps=1e-05, momentum=0.1, affine=True, track_running_stats=True)\n",
      "    )\n",
      "  )\n",
      "  (avgpool): AdaptiveAvgPool2d(output_size=(1, 1))\n",
      "  (fc): Linear(in_features=512, out_features=1000, bias=True)\n",
      ")\n",
      "conv1: Conv2d(3, 64, kernel_size=(7, 7), stride=(2, 2), padding=(3, 3), bias=False)\n",
      "bn1: BatchNorm2d(64, eps=1e-05, momentum=0.1, affine=True, track_running_stats=True)\n",
      "relu: ReLU(inplace=True)\n",
      "maxpool: MaxPool2d(kernel_size=3, stride=2, padding=1, dilation=1, ceil_mode=False)\n",
      "layer1: Sequential(\n",
      "  (0): BasicBlock(\n",
      "    (conv1): Conv2d(64, 64, kernel_size=(3, 3), stride=(1, 1), padding=(1, 1), bias=False)\n",
      "    (bn1): BatchNorm2d(64, eps=1e-05, momentum=0.1, affine=True, track_running_stats=True)\n",
      "    (relu): ReLU(inplace=True)\n",
      "    (conv2): Conv2d(64, 64, kernel_size=(3, 3), stride=(1, 1), padding=(1, 1), bias=False)\n",
      "    (bn2): BatchNorm2d(64, eps=1e-05, momentum=0.1, affine=True, track_running_stats=True)\n",
      "  )\n",
      "  (1): BasicBlock(\n",
      "    (conv1): Conv2d(64, 64, kernel_size=(3, 3), stride=(1, 1), padding=(1, 1), bias=False)\n",
      "    (bn1): BatchNorm2d(64, eps=1e-05, momentum=0.1, affine=True, track_running_stats=True)\n",
      "    (relu): ReLU(inplace=True)\n",
      "    (conv2): Conv2d(64, 64, kernel_size=(3, 3), stride=(1, 1), padding=(1, 1), bias=False)\n",
      "    (bn2): BatchNorm2d(64, eps=1e-05, momentum=0.1, affine=True, track_running_stats=True)\n",
      "  )\n",
      ")\n",
      "layer1.0: BasicBlock(\n",
      "  (conv1): Conv2d(64, 64, kernel_size=(3, 3), stride=(1, 1), padding=(1, 1), bias=False)\n",
      "  (bn1): BatchNorm2d(64, eps=1e-05, momentum=0.1, affine=True, track_running_stats=True)\n",
      "  (relu): ReLU(inplace=True)\n",
      "  (conv2): Conv2d(64, 64, kernel_size=(3, 3), stride=(1, 1), padding=(1, 1), bias=False)\n",
      "  (bn2): BatchNorm2d(64, eps=1e-05, momentum=0.1, affine=True, track_running_stats=True)\n",
      ")\n",
      "layer1.0.conv1: Conv2d(64, 64, kernel_size=(3, 3), stride=(1, 1), padding=(1, 1), bias=False)\n",
      "layer1.0.bn1: BatchNorm2d(64, eps=1e-05, momentum=0.1, affine=True, track_running_stats=True)\n",
      "layer1.0.relu: ReLU(inplace=True)\n",
      "layer1.0.conv2: Conv2d(64, 64, kernel_size=(3, 3), stride=(1, 1), padding=(1, 1), bias=False)\n",
      "layer1.0.bn2: BatchNorm2d(64, eps=1e-05, momentum=0.1, affine=True, track_running_stats=True)\n",
      "layer1.1: BasicBlock(\n",
      "  (conv1): Conv2d(64, 64, kernel_size=(3, 3), stride=(1, 1), padding=(1, 1), bias=False)\n",
      "  (bn1): BatchNorm2d(64, eps=1e-05, momentum=0.1, affine=True, track_running_stats=True)\n",
      "  (relu): ReLU(inplace=True)\n",
      "  (conv2): Conv2d(64, 64, kernel_size=(3, 3), stride=(1, 1), padding=(1, 1), bias=False)\n",
      "  (bn2): BatchNorm2d(64, eps=1e-05, momentum=0.1, affine=True, track_running_stats=True)\n",
      ")\n",
      "layer1.1.conv1: Conv2d(64, 64, kernel_size=(3, 3), stride=(1, 1), padding=(1, 1), bias=False)\n",
      "layer1.1.bn1: BatchNorm2d(64, eps=1e-05, momentum=0.1, affine=True, track_running_stats=True)\n",
      "layer1.1.relu: ReLU(inplace=True)\n",
      "layer1.1.conv2: Conv2d(64, 64, kernel_size=(3, 3), stride=(1, 1), padding=(1, 1), bias=False)\n",
      "layer1.1.bn2: BatchNorm2d(64, eps=1e-05, momentum=0.1, affine=True, track_running_stats=True)\n",
      "layer2: Sequential(\n",
      "  (0): BasicBlock(\n",
      "    (conv1): Conv2d(64, 128, kernel_size=(3, 3), stride=(2, 2), padding=(1, 1), bias=False)\n",
      "    (bn1): BatchNorm2d(128, eps=1e-05, momentum=0.1, affine=True, track_running_stats=True)\n",
      "    (relu): ReLU(inplace=True)\n",
      "    (conv2): Conv2d(128, 128, kernel_size=(3, 3), stride=(1, 1), padding=(1, 1), bias=False)\n",
      "    (bn2): BatchNorm2d(128, eps=1e-05, momentum=0.1, affine=True, track_running_stats=True)\n",
      "    (downsample): Sequential(\n",
      "      (0): Conv2d(64, 128, kernel_size=(1, 1), stride=(2, 2), bias=False)\n",
      "      (1): BatchNorm2d(128, eps=1e-05, momentum=0.1, affine=True, track_running_stats=True)\n",
      "    )\n",
      "  )\n",
      "  (1): BasicBlock(\n",
      "    (conv1): Conv2d(128, 128, kernel_size=(3, 3), stride=(1, 1), padding=(1, 1), bias=False)\n",
      "    (bn1): BatchNorm2d(128, eps=1e-05, momentum=0.1, affine=True, track_running_stats=True)\n",
      "    (relu): ReLU(inplace=True)\n",
      "    (conv2): Conv2d(128, 128, kernel_size=(3, 3), stride=(1, 1), padding=(1, 1), bias=False)\n",
      "    (bn2): BatchNorm2d(128, eps=1e-05, momentum=0.1, affine=True, track_running_stats=True)\n",
      "  )\n",
      ")\n",
      "layer2.0: BasicBlock(\n",
      "  (conv1): Conv2d(64, 128, kernel_size=(3, 3), stride=(2, 2), padding=(1, 1), bias=False)\n",
      "  (bn1): BatchNorm2d(128, eps=1e-05, momentum=0.1, affine=True, track_running_stats=True)\n",
      "  (relu): ReLU(inplace=True)\n",
      "  (conv2): Conv2d(128, 128, kernel_size=(3, 3), stride=(1, 1), padding=(1, 1), bias=False)\n",
      "  (bn2): BatchNorm2d(128, eps=1e-05, momentum=0.1, affine=True, track_running_stats=True)\n",
      "  (downsample): Sequential(\n",
      "    (0): Conv2d(64, 128, kernel_size=(1, 1), stride=(2, 2), bias=False)\n",
      "    (1): BatchNorm2d(128, eps=1e-05, momentum=0.1, affine=True, track_running_stats=True)\n",
      "  )\n",
      ")\n",
      "layer2.0.conv1: Conv2d(64, 128, kernel_size=(3, 3), stride=(2, 2), padding=(1, 1), bias=False)\n",
      "layer2.0.bn1: BatchNorm2d(128, eps=1e-05, momentum=0.1, affine=True, track_running_stats=True)\n",
      "layer2.0.relu: ReLU(inplace=True)\n",
      "layer2.0.conv2: Conv2d(128, 128, kernel_size=(3, 3), stride=(1, 1), padding=(1, 1), bias=False)\n",
      "layer2.0.bn2: BatchNorm2d(128, eps=1e-05, momentum=0.1, affine=True, track_running_stats=True)\n",
      "layer2.0.downsample: Sequential(\n",
      "  (0): Conv2d(64, 128, kernel_size=(1, 1), stride=(2, 2), bias=False)\n",
      "  (1): BatchNorm2d(128, eps=1e-05, momentum=0.1, affine=True, track_running_stats=True)\n",
      ")\n",
      "layer2.0.downsample.0: Conv2d(64, 128, kernel_size=(1, 1), stride=(2, 2), bias=False)\n",
      "layer2.0.downsample.1: BatchNorm2d(128, eps=1e-05, momentum=0.1, affine=True, track_running_stats=True)\n",
      "layer2.1: BasicBlock(\n",
      "  (conv1): Conv2d(128, 128, kernel_size=(3, 3), stride=(1, 1), padding=(1, 1), bias=False)\n",
      "  (bn1): BatchNorm2d(128, eps=1e-05, momentum=0.1, affine=True, track_running_stats=True)\n",
      "  (relu): ReLU(inplace=True)\n",
      "  (conv2): Conv2d(128, 128, kernel_size=(3, 3), stride=(1, 1), padding=(1, 1), bias=False)\n",
      "  (bn2): BatchNorm2d(128, eps=1e-05, momentum=0.1, affine=True, track_running_stats=True)\n",
      ")\n",
      "layer2.1.conv1: Conv2d(128, 128, kernel_size=(3, 3), stride=(1, 1), padding=(1, 1), bias=False)\n",
      "layer2.1.bn1: BatchNorm2d(128, eps=1e-05, momentum=0.1, affine=True, track_running_stats=True)\n",
      "layer2.1.relu: ReLU(inplace=True)\n",
      "layer2.1.conv2: Conv2d(128, 128, kernel_size=(3, 3), stride=(1, 1), padding=(1, 1), bias=False)\n",
      "layer2.1.bn2: BatchNorm2d(128, eps=1e-05, momentum=0.1, affine=True, track_running_stats=True)\n",
      "layer3: Sequential(\n",
      "  (0): BasicBlock(\n",
      "    (conv1): Conv2d(128, 256, kernel_size=(3, 3), stride=(2, 2), padding=(1, 1), bias=False)\n",
      "    (bn1): BatchNorm2d(256, eps=1e-05, momentum=0.1, affine=True, track_running_stats=True)\n",
      "    (relu): ReLU(inplace=True)\n",
      "    (conv2): Conv2d(256, 256, kernel_size=(3, 3), stride=(1, 1), padding=(1, 1), bias=False)\n",
      "    (bn2): BatchNorm2d(256, eps=1e-05, momentum=0.1, affine=True, track_running_stats=True)\n",
      "    (downsample): Sequential(\n",
      "      (0): Conv2d(128, 256, kernel_size=(1, 1), stride=(2, 2), bias=False)\n",
      "      (1): BatchNorm2d(256, eps=1e-05, momentum=0.1, affine=True, track_running_stats=True)\n",
      "    )\n",
      "  )\n",
      "  (1): BasicBlock(\n",
      "    (conv1): Conv2d(256, 256, kernel_size=(3, 3), stride=(1, 1), padding=(1, 1), bias=False)\n",
      "    (bn1): BatchNorm2d(256, eps=1e-05, momentum=0.1, affine=True, track_running_stats=True)\n",
      "    (relu): ReLU(inplace=True)\n",
      "    (conv2): Conv2d(256, 256, kernel_size=(3, 3), stride=(1, 1), padding=(1, 1), bias=False)\n",
      "    (bn2): BatchNorm2d(256, eps=1e-05, momentum=0.1, affine=True, track_running_stats=True)\n",
      "  )\n",
      ")\n",
      "layer3.0: BasicBlock(\n",
      "  (conv1): Conv2d(128, 256, kernel_size=(3, 3), stride=(2, 2), padding=(1, 1), bias=False)\n",
      "  (bn1): BatchNorm2d(256, eps=1e-05, momentum=0.1, affine=True, track_running_stats=True)\n",
      "  (relu): ReLU(inplace=True)\n",
      "  (conv2): Conv2d(256, 256, kernel_size=(3, 3), stride=(1, 1), padding=(1, 1), bias=False)\n",
      "  (bn2): BatchNorm2d(256, eps=1e-05, momentum=0.1, affine=True, track_running_stats=True)\n",
      "  (downsample): Sequential(\n",
      "    (0): Conv2d(128, 256, kernel_size=(1, 1), stride=(2, 2), bias=False)\n",
      "    (1): BatchNorm2d(256, eps=1e-05, momentum=0.1, affine=True, track_running_stats=True)\n",
      "  )\n",
      ")\n",
      "layer3.0.conv1: Conv2d(128, 256, kernel_size=(3, 3), stride=(2, 2), padding=(1, 1), bias=False)\n",
      "layer3.0.bn1: BatchNorm2d(256, eps=1e-05, momentum=0.1, affine=True, track_running_stats=True)\n",
      "layer3.0.relu: ReLU(inplace=True)\n",
      "layer3.0.conv2: Conv2d(256, 256, kernel_size=(3, 3), stride=(1, 1), padding=(1, 1), bias=False)\n",
      "layer3.0.bn2: BatchNorm2d(256, eps=1e-05, momentum=0.1, affine=True, track_running_stats=True)\n",
      "layer3.0.downsample: Sequential(\n",
      "  (0): Conv2d(128, 256, kernel_size=(1, 1), stride=(2, 2), bias=False)\n",
      "  (1): BatchNorm2d(256, eps=1e-05, momentum=0.1, affine=True, track_running_stats=True)\n",
      ")\n",
      "layer3.0.downsample.0: Conv2d(128, 256, kernel_size=(1, 1), stride=(2, 2), bias=False)\n",
      "layer3.0.downsample.1: BatchNorm2d(256, eps=1e-05, momentum=0.1, affine=True, track_running_stats=True)\n",
      "layer3.1: BasicBlock(\n",
      "  (conv1): Conv2d(256, 256, kernel_size=(3, 3), stride=(1, 1), padding=(1, 1), bias=False)\n",
      "  (bn1): BatchNorm2d(256, eps=1e-05, momentum=0.1, affine=True, track_running_stats=True)\n",
      "  (relu): ReLU(inplace=True)\n",
      "  (conv2): Conv2d(256, 256, kernel_size=(3, 3), stride=(1, 1), padding=(1, 1), bias=False)\n",
      "  (bn2): BatchNorm2d(256, eps=1e-05, momentum=0.1, affine=True, track_running_stats=True)\n",
      ")\n",
      "layer3.1.conv1: Conv2d(256, 256, kernel_size=(3, 3), stride=(1, 1), padding=(1, 1), bias=False)\n",
      "layer3.1.bn1: BatchNorm2d(256, eps=1e-05, momentum=0.1, affine=True, track_running_stats=True)\n",
      "layer3.1.relu: ReLU(inplace=True)\n",
      "layer3.1.conv2: Conv2d(256, 256, kernel_size=(3, 3), stride=(1, 1), padding=(1, 1), bias=False)\n",
      "layer3.1.bn2: BatchNorm2d(256, eps=1e-05, momentum=0.1, affine=True, track_running_stats=True)\n",
      "layer4: Sequential(\n",
      "  (0): BasicBlock(\n",
      "    (conv1): Conv2d(256, 512, kernel_size=(3, 3), stride=(2, 2), padding=(1, 1), bias=False)\n",
      "    (bn1): BatchNorm2d(512, eps=1e-05, momentum=0.1, affine=True, track_running_stats=True)\n",
      "    (relu): ReLU(inplace=True)\n",
      "    (conv2): Conv2d(512, 512, kernel_size=(3, 3), stride=(1, 1), padding=(1, 1), bias=False)\n",
      "    (bn2): BatchNorm2d(512, eps=1e-05, momentum=0.1, affine=True, track_running_stats=True)\n",
      "    (downsample): Sequential(\n",
      "      (0): Conv2d(256, 512, kernel_size=(1, 1), stride=(2, 2), bias=False)\n",
      "      (1): BatchNorm2d(512, eps=1e-05, momentum=0.1, affine=True, track_running_stats=True)\n",
      "    )\n",
      "  )\n",
      "  (1): BasicBlock(\n",
      "    (conv1): Conv2d(512, 512, kernel_size=(3, 3), stride=(1, 1), padding=(1, 1), bias=False)\n",
      "    (bn1): BatchNorm2d(512, eps=1e-05, momentum=0.1, affine=True, track_running_stats=True)\n",
      "    (relu): ReLU(inplace=True)\n",
      "    (conv2): Conv2d(512, 512, kernel_size=(3, 3), stride=(1, 1), padding=(1, 1), bias=False)\n",
      "    (bn2): BatchNorm2d(512, eps=1e-05, momentum=0.1, affine=True, track_running_stats=True)\n",
      "  )\n",
      ")\n",
      "layer4.0: BasicBlock(\n",
      "  (conv1): Conv2d(256, 512, kernel_size=(3, 3), stride=(2, 2), padding=(1, 1), bias=False)\n",
      "  (bn1): BatchNorm2d(512, eps=1e-05, momentum=0.1, affine=True, track_running_stats=True)\n",
      "  (relu): ReLU(inplace=True)\n",
      "  (conv2): Conv2d(512, 512, kernel_size=(3, 3), stride=(1, 1), padding=(1, 1), bias=False)\n",
      "  (bn2): BatchNorm2d(512, eps=1e-05, momentum=0.1, affine=True, track_running_stats=True)\n",
      "  (downsample): Sequential(\n",
      "    (0): Conv2d(256, 512, kernel_size=(1, 1), stride=(2, 2), bias=False)\n",
      "    (1): BatchNorm2d(512, eps=1e-05, momentum=0.1, affine=True, track_running_stats=True)\n",
      "  )\n",
      ")\n",
      "layer4.0.conv1: Conv2d(256, 512, kernel_size=(3, 3), stride=(2, 2), padding=(1, 1), bias=False)\n",
      "layer4.0.bn1: BatchNorm2d(512, eps=1e-05, momentum=0.1, affine=True, track_running_stats=True)\n",
      "layer4.0.relu: ReLU(inplace=True)\n",
      "layer4.0.conv2: Conv2d(512, 512, kernel_size=(3, 3), stride=(1, 1), padding=(1, 1), bias=False)\n",
      "layer4.0.bn2: BatchNorm2d(512, eps=1e-05, momentum=0.1, affine=True, track_running_stats=True)\n",
      "layer4.0.downsample: Sequential(\n",
      "  (0): Conv2d(256, 512, kernel_size=(1, 1), stride=(2, 2), bias=False)\n",
      "  (1): BatchNorm2d(512, eps=1e-05, momentum=0.1, affine=True, track_running_stats=True)\n",
      ")\n",
      "layer4.0.downsample.0: Conv2d(256, 512, kernel_size=(1, 1), stride=(2, 2), bias=False)\n",
      "layer4.0.downsample.1: BatchNorm2d(512, eps=1e-05, momentum=0.1, affine=True, track_running_stats=True)\n",
      "layer4.1: BasicBlock(\n",
      "  (conv1): Conv2d(512, 512, kernel_size=(3, 3), stride=(1, 1), padding=(1, 1), bias=False)\n",
      "  (bn1): BatchNorm2d(512, eps=1e-05, momentum=0.1, affine=True, track_running_stats=True)\n",
      "  (relu): ReLU(inplace=True)\n",
      "  (conv2): Conv2d(512, 512, kernel_size=(3, 3), stride=(1, 1), padding=(1, 1), bias=False)\n",
      "  (bn2): BatchNorm2d(512, eps=1e-05, momentum=0.1, affine=True, track_running_stats=True)\n",
      ")\n",
      "layer4.1.conv1: Conv2d(512, 512, kernel_size=(3, 3), stride=(1, 1), padding=(1, 1), bias=False)\n",
      "layer4.1.bn1: BatchNorm2d(512, eps=1e-05, momentum=0.1, affine=True, track_running_stats=True)\n",
      "layer4.1.relu: ReLU(inplace=True)\n",
      "layer4.1.conv2: Conv2d(512, 512, kernel_size=(3, 3), stride=(1, 1), padding=(1, 1), bias=False)\n",
      "layer4.1.bn2: BatchNorm2d(512, eps=1e-05, momentum=0.1, affine=True, track_running_stats=True)\n",
      "avgpool: AdaptiveAvgPool2d(output_size=(1, 1))\n",
      "fc: Linear(in_features=512, out_features=1000, bias=True)\n"
     ]
    }
   ],
   "source": [
    "for name, layer in resnet18.named_modules():\n",
    "    print(f'{name}: {layer}')"
   ]
  },
  {
   "cell_type": "markdown",
   "id": "8191b8c1-fd3c-4a8f-a3e4-a0044f9060ba",
   "metadata": {
    "id": "8191b8c1-fd3c-4a8f-a3e4-a0044f9060ba"
   },
   "source": [
    "#### Changing the output layer to match the CIFAR10 dataset we imported"
   ]
  },
  {
   "cell_type": "code",
   "execution_count": 26,
   "id": "ed984c2d-b4d3-4434-b13e-2e0abe09edd5",
   "metadata": {
    "id": "ed984c2d-b4d3-4434-b13e-2e0abe09edd5"
   },
   "outputs": [],
   "source": [
    "resnet18._modules['fc'] = nn.Linear(in_features=512, out_features=10, bias=True)"
   ]
  },
  {
   "cell_type": "code",
   "execution_count": 27,
   "id": "6521dc2f-9c76-439b-a899-295ce18ddcb9",
   "metadata": {
    "id": "6521dc2f-9c76-439b-a899-295ce18ddcb9"
   },
   "outputs": [],
   "source": [
    "resnet_transform = T.Compose([\n",
    "    T.ToTensor(),\n",
    "    T.Lambda(lambda t: t.to(dtype=torch.float, device=device)),\n",
    "    # standardizing the values to match the training values range\n",
    "    T.Lambda(lambda t: t/255.0),\n",
    "    # T.Lambda(lambda t: torch.movedim(t, 2, 0)),\n",
    "    T.Resize(256),\n",
    "    T.CenterCrop(224),\n",
    "    T.Normalize(mean=torch.tensor([0.485, 0.456, 0.406]), std=torch.tensor([0.229, 0.224, 0.225])),\n",
    "    # T.Lambda(lambda tensor: tensor.to(device))\n",
    "])"
   ]
  },
  {
   "cell_type": "code",
   "execution_count": 28,
   "id": "150c4dde-9c5a-46c8-8122-f0b6e3439d14",
   "metadata": {
    "colab": {
     "base_uri": "https://localhost:8080/"
    },
    "id": "150c4dde-9c5a-46c8-8122-f0b6e3439d14",
    "outputId": "824bc755-b81d-45b9-e3bf-f07b3defc379"
   },
   "outputs": [
    {
     "data": {
      "text/plain": [
       "list"
      ]
     },
     "execution_count": 28,
     "metadata": {},
     "output_type": "execute_result"
    }
   ],
   "source": [
    "type(cifar10_dataset.targets)"
   ]
  },
  {
   "cell_type": "code",
   "execution_count": 29,
   "id": "f26d235d-6196-4b54-a935-9020955e6641",
   "metadata": {
    "id": "f26d235d-6196-4b54-a935-9020955e6641"
   },
   "outputs": [],
   "source": [
    "cifar10_dataset = torchvision.datasets.CIFAR10(root='./cifar10',\n",
    "                                              train=True,\n",
    "                                              download=False,\n",
    "                                              transform=resnet_transform,\n",
    "                                               target_transform=T.Compose([\n",
    "                                                   T.Lambda(lambda tensor:\n",
    "                                                            torch.tensor(tensor).to(device=device))\n",
    "                                               ]))\n",
    "\n",
    "cifar10_dataloader = DataLoader(cifar10_dataset, batch_size=256)\n",
    "cifar10_dataloader_full = DataLoader(cifar10_dataset, batch_size=len(cifar10_dataset.data))"
   ]
  },
  {
   "cell_type": "code",
   "execution_count": 30,
   "id": "f468e7e0-fb6d-4087-b630-f0bb207c6f12",
   "metadata": {
    "colab": {
     "base_uri": "https://localhost:8080/"
    },
    "id": "f468e7e0-fb6d-4087-b630-f0bb207c6f12",
    "outputId": "8e12326e-dced-4618-d27c-425132c6e4af"
   },
   "outputs": [
    {
     "data": {
      "text/plain": [
       "[AdaptiveAvgPool2d(output_size=(1, 1)),\n",
       " Linear(in_features=512, out_features=10, bias=True)]"
      ]
     },
     "execution_count": 30,
     "metadata": {},
     "output_type": "execute_result"
    }
   ],
   "source": [
    "list(resnet18.modules())[-2:]"
   ]
  },
  {
   "cell_type": "code",
   "execution_count": 31,
   "id": "1a3ea5c5-042f-4faf-a4f9-edfb502842b9",
   "metadata": {
    "id": "1a3ea5c5-042f-4faf-a4f9-edfb502842b9"
   },
   "outputs": [],
   "source": [
    "parameters = [param for name, param in resnet18.named_parameters() if name.startswith('fc')]"
   ]
  },
  {
   "cell_type": "code",
   "execution_count": 32,
   "id": "1779764f-7b10-469b-b0a5-bfcaa34e1598",
   "metadata": {
    "id": "1779764f-7b10-469b-b0a5-bfcaa34e1598"
   },
   "outputs": [],
   "source": [
    "for name, param in resnet18.named_parameters():\n",
    "    if not name.startswith('fc'):\n",
    "        param.requires_grad = False"
   ]
  },
  {
   "cell_type": "code",
   "execution_count": 33,
   "id": "71cbb4c0-53ac-4361-aa55-47a32f706622",
   "metadata": {
    "id": "71cbb4c0-53ac-4361-aa55-47a32f706622"
   },
   "outputs": [],
   "source": [
    "optimizer = torch.optim.SGD(parameters, lr=0.001, momentum=0.99)"
   ]
  },
  {
   "cell_type": "code",
   "execution_count": 34,
   "id": "ba02f064-d7ae-45d4-8128-a77cdc947d59",
   "metadata": {
    "id": "ba02f064-d7ae-45d4-8128-a77cdc947d59"
   },
   "outputs": [],
   "source": [
    "loss = nn.CrossEntropyLoss()"
   ]
  },
  {
   "cell_type": "code",
   "execution_count": 35,
   "id": "hx-2irwHgWlF",
   "metadata": {
    "colab": {
     "base_uri": "https://localhost:8080/"
    },
    "id": "hx-2irwHgWlF",
    "outputId": "92ad8264-1414-48cf-e6bc-cd7dbc4218d2",
    "scrolled": true
   },
   "outputs": [
    {
     "data": {
      "text/plain": [
       "ResNet(\n",
       "  (conv1): Conv2d(3, 64, kernel_size=(7, 7), stride=(2, 2), padding=(3, 3), bias=False)\n",
       "  (bn1): BatchNorm2d(64, eps=1e-05, momentum=0.1, affine=True, track_running_stats=True)\n",
       "  (relu): ReLU(inplace=True)\n",
       "  (maxpool): MaxPool2d(kernel_size=3, stride=2, padding=1, dilation=1, ceil_mode=False)\n",
       "  (layer1): Sequential(\n",
       "    (0): BasicBlock(\n",
       "      (conv1): Conv2d(64, 64, kernel_size=(3, 3), stride=(1, 1), padding=(1, 1), bias=False)\n",
       "      (bn1): BatchNorm2d(64, eps=1e-05, momentum=0.1, affine=True, track_running_stats=True)\n",
       "      (relu): ReLU(inplace=True)\n",
       "      (conv2): Conv2d(64, 64, kernel_size=(3, 3), stride=(1, 1), padding=(1, 1), bias=False)\n",
       "      (bn2): BatchNorm2d(64, eps=1e-05, momentum=0.1, affine=True, track_running_stats=True)\n",
       "    )\n",
       "    (1): BasicBlock(\n",
       "      (conv1): Conv2d(64, 64, kernel_size=(3, 3), stride=(1, 1), padding=(1, 1), bias=False)\n",
       "      (bn1): BatchNorm2d(64, eps=1e-05, momentum=0.1, affine=True, track_running_stats=True)\n",
       "      (relu): ReLU(inplace=True)\n",
       "      (conv2): Conv2d(64, 64, kernel_size=(3, 3), stride=(1, 1), padding=(1, 1), bias=False)\n",
       "      (bn2): BatchNorm2d(64, eps=1e-05, momentum=0.1, affine=True, track_running_stats=True)\n",
       "    )\n",
       "  )\n",
       "  (layer2): Sequential(\n",
       "    (0): BasicBlock(\n",
       "      (conv1): Conv2d(64, 128, kernel_size=(3, 3), stride=(2, 2), padding=(1, 1), bias=False)\n",
       "      (bn1): BatchNorm2d(128, eps=1e-05, momentum=0.1, affine=True, track_running_stats=True)\n",
       "      (relu): ReLU(inplace=True)\n",
       "      (conv2): Conv2d(128, 128, kernel_size=(3, 3), stride=(1, 1), padding=(1, 1), bias=False)\n",
       "      (bn2): BatchNorm2d(128, eps=1e-05, momentum=0.1, affine=True, track_running_stats=True)\n",
       "      (downsample): Sequential(\n",
       "        (0): Conv2d(64, 128, kernel_size=(1, 1), stride=(2, 2), bias=False)\n",
       "        (1): BatchNorm2d(128, eps=1e-05, momentum=0.1, affine=True, track_running_stats=True)\n",
       "      )\n",
       "    )\n",
       "    (1): BasicBlock(\n",
       "      (conv1): Conv2d(128, 128, kernel_size=(3, 3), stride=(1, 1), padding=(1, 1), bias=False)\n",
       "      (bn1): BatchNorm2d(128, eps=1e-05, momentum=0.1, affine=True, track_running_stats=True)\n",
       "      (relu): ReLU(inplace=True)\n",
       "      (conv2): Conv2d(128, 128, kernel_size=(3, 3), stride=(1, 1), padding=(1, 1), bias=False)\n",
       "      (bn2): BatchNorm2d(128, eps=1e-05, momentum=0.1, affine=True, track_running_stats=True)\n",
       "    )\n",
       "  )\n",
       "  (layer3): Sequential(\n",
       "    (0): BasicBlock(\n",
       "      (conv1): Conv2d(128, 256, kernel_size=(3, 3), stride=(2, 2), padding=(1, 1), bias=False)\n",
       "      (bn1): BatchNorm2d(256, eps=1e-05, momentum=0.1, affine=True, track_running_stats=True)\n",
       "      (relu): ReLU(inplace=True)\n",
       "      (conv2): Conv2d(256, 256, kernel_size=(3, 3), stride=(1, 1), padding=(1, 1), bias=False)\n",
       "      (bn2): BatchNorm2d(256, eps=1e-05, momentum=0.1, affine=True, track_running_stats=True)\n",
       "      (downsample): Sequential(\n",
       "        (0): Conv2d(128, 256, kernel_size=(1, 1), stride=(2, 2), bias=False)\n",
       "        (1): BatchNorm2d(256, eps=1e-05, momentum=0.1, affine=True, track_running_stats=True)\n",
       "      )\n",
       "    )\n",
       "    (1): BasicBlock(\n",
       "      (conv1): Conv2d(256, 256, kernel_size=(3, 3), stride=(1, 1), padding=(1, 1), bias=False)\n",
       "      (bn1): BatchNorm2d(256, eps=1e-05, momentum=0.1, affine=True, track_running_stats=True)\n",
       "      (relu): ReLU(inplace=True)\n",
       "      (conv2): Conv2d(256, 256, kernel_size=(3, 3), stride=(1, 1), padding=(1, 1), bias=False)\n",
       "      (bn2): BatchNorm2d(256, eps=1e-05, momentum=0.1, affine=True, track_running_stats=True)\n",
       "    )\n",
       "  )\n",
       "  (layer4): Sequential(\n",
       "    (0): BasicBlock(\n",
       "      (conv1): Conv2d(256, 512, kernel_size=(3, 3), stride=(2, 2), padding=(1, 1), bias=False)\n",
       "      (bn1): BatchNorm2d(512, eps=1e-05, momentum=0.1, affine=True, track_running_stats=True)\n",
       "      (relu): ReLU(inplace=True)\n",
       "      (conv2): Conv2d(512, 512, kernel_size=(3, 3), stride=(1, 1), padding=(1, 1), bias=False)\n",
       "      (bn2): BatchNorm2d(512, eps=1e-05, momentum=0.1, affine=True, track_running_stats=True)\n",
       "      (downsample): Sequential(\n",
       "        (0): Conv2d(256, 512, kernel_size=(1, 1), stride=(2, 2), bias=False)\n",
       "        (1): BatchNorm2d(512, eps=1e-05, momentum=0.1, affine=True, track_running_stats=True)\n",
       "      )\n",
       "    )\n",
       "    (1): BasicBlock(\n",
       "      (conv1): Conv2d(512, 512, kernel_size=(3, 3), stride=(1, 1), padding=(1, 1), bias=False)\n",
       "      (bn1): BatchNorm2d(512, eps=1e-05, momentum=0.1, affine=True, track_running_stats=True)\n",
       "      (relu): ReLU(inplace=True)\n",
       "      (conv2): Conv2d(512, 512, kernel_size=(3, 3), stride=(1, 1), padding=(1, 1), bias=False)\n",
       "      (bn2): BatchNorm2d(512, eps=1e-05, momentum=0.1, affine=True, track_running_stats=True)\n",
       "    )\n",
       "  )\n",
       "  (avgpool): AdaptiveAvgPool2d(output_size=(1, 1))\n",
       "  (fc): Linear(in_features=512, out_features=10, bias=True)\n",
       ")"
      ]
     },
     "execution_count": 35,
     "metadata": {},
     "output_type": "execute_result"
    }
   ],
   "source": [
    "resnet18.to(device)"
   ]
  },
  {
   "cell_type": "code",
   "execution_count": 36,
   "id": "3ceb5703-af65-4ed4-ae67-d612cf6ffef7",
   "metadata": {
    "id": "3ceb5703-af65-4ed4-ae67-d612cf6ffef7"
   },
   "outputs": [],
   "source": [
    "epochs = 5\n",
    "\n",
    "train_loss, train_accuracy = torch.zeros(epochs).to(device), torch.zeros(epochs).to(device)"
   ]
  },
  {
   "cell_type": "code",
   "execution_count": 37,
   "id": "e361d113-1a8b-433b-8f6f-7ca02c71511a",
   "metadata": {
    "id": "e361d113-1a8b-433b-8f6f-7ca02c71511a"
   },
   "outputs": [],
   "source": [
    "from tqdm import tqdm"
   ]
  },
  {
   "cell_type": "code",
   "execution_count": 38,
   "id": "79b2fcc5-a33e-40db-9e6e-b06a3c0161d7",
   "metadata": {
    "id": "79b2fcc5-a33e-40db-9e6e-b06a3c0161d7"
   },
   "outputs": [],
   "source": [
    "@torch.no_grad\n",
    "def evaluate_epoch(epoch_num, epoch_loss_values, epoch_num_correct_preds, dataset_size):\n",
    "    epoch_accuracy = epoch_num_correct_preds / dataset_size\n",
    "    epoch_loss = epoch_loss_values\n",
    "    return epoch_loss, epoch_accuracy"
   ]
  },
  {
   "cell_type": "code",
   "execution_count": 41,
   "id": "4254498e-b937-432e-bd81-0d8d840faf8f",
   "metadata": {},
   "outputs": [],
   "source": [
    "@torch.no_grad\n",
    "def evaluate_batch(epoch_num, batch_idx, model, loss_func, batch_X, batch_y):\n",
    "    model.eval()\n",
    "\n",
    "    batch_predictions = torch.argmax(model(batch_X), dim=1).to(dtype=torch.float, device=device)\n",
    "    loss_value = loss_func(batch_predictions, batch_y.to(torch.float))\n",
    "    num_correct_preds = (batch_predictions == batch_y).sum()\n",
    "    return loss_value, num_correct_preds"
   ]
  },
  {
   "cell_type": "code",
   "execution_count": null,
   "id": "168e12cc-e77e-4e43-be38-2608f249ba0b",
   "metadata": {
    "colab": {
     "base_uri": "https://localhost:8080/"
    },
    "id": "168e12cc-e77e-4e43-be38-2608f249ba0b",
    "outputId": "28caec7d-49ec-43ab-cd41-c6b7a3b5dab2",
    "scrolled": true
   },
   "outputs": [
    {
     "name": "stderr",
     "output_type": "stream",
     "text": [
      " 20%|███████████████████████████████████▍                                                                                                                                             | 1/5 [05:46<23:05, 346.46s/it]"
     ]
    }
   ],
   "source": [
    "dataset_size = len(cifar10_dataset)\n",
    "epoch_loss = 0\n",
    "epoch_accuracy = 0\n",
    "\n",
    "for epoch in tqdm(range(epochs)):\n",
    "    resnet18.train()\n",
    "    for batch_idx, (batch_X, batch_y) in enumerate(cifar10_dataloader):\n",
    "        optimizer.zero_grad()\n",
    "        batch_output = resnet18(batch_X)\n",
    "        batch_loss = loss(batch_output, batch_y)\n",
    "        batch_loss.backward()\n",
    "        optimizer.step()\n",
    "\n",
    "        batch_loss, batch_accuracy = evaluate_batch(epoch, batch_idx, resnet18, loss, batch_X, batch_y)\n",
    "        epoch_loss += batch_loss\n",
    "        epoch_accuracy += batch_accuracy\n",
    "\n",
    "    train_loss[epoch], train_accuracy[epoch] = evaluate_epoch(epoch, epoch_loss, epoch_accuracy, dataset_size)\n",
    "\n",
    "    epoch_loss = 0\n",
    "    epoch_accuracy = 0"
   ]
  },
  {
   "cell_type": "code",
   "execution_count": null,
   "id": "ppqBH7300PxW",
   "metadata": {
    "colab": {
     "base_uri": "https://localhost:8080/",
     "height": 469
    },
    "id": "ppqBH7300PxW",
    "outputId": "74fb8e52-2190-4ec7-e5c4-63717d3da79f"
   },
   "outputs": [],
   "source": [
    "fig, axes = plt.subplots(1, 2)\n",
    "axes[0].plot(train_accuracy.to('cpu').detach().numpy(), label='Accuracy')\n",
    "axes[0].set_title('Accuracy')\n",
    "axes[1].plot(train_loss.to('cpu').detach().numpy(), label='Loss')\n",
    "axes[1].set_title('Loss')"
   ]
  },
  {
   "cell_type": "code",
   "execution_count": null,
   "id": "TTenBcw-LRYR",
   "metadata": {
    "colab": {
     "base_uri": "https://localhost:8080/"
    },
    "id": "TTenBcw-LRYR",
    "outputId": "785cb200-bcea-4ad5-c765-489f01879109"
   },
   "outputs": [],
   "source": [
    "!nvidia-smi"
   ]
  },
  {
   "cell_type": "code",
   "execution_count": null,
   "id": "kRdPSCuxMz0N",
   "metadata": {
    "id": "kRdPSCuxMz0N"
   },
   "outputs": [],
   "source": [
    "torch.cuda.empty_cache()"
   ]
  },
  {
   "cell_type": "code",
   "execution_count": null,
   "id": "6f8e2339-5c6c-4fb2-9117-17e2e98d31c1",
   "metadata": {},
   "outputs": [],
   "source": []
  }
 ],
 "metadata": {
  "accelerator": "GPU",
  "colab": {
   "gpuType": "T4",
   "provenance": []
  },
  "kernelspec": {
   "display_name": "Python 3 (ipykernel)",
   "language": "python",
   "name": "python3"
  },
  "language_info": {
   "codemirror_mode": {
    "name": "ipython",
    "version": 3
   },
   "file_extension": ".py",
   "mimetype": "text/x-python",
   "name": "python",
   "nbconvert_exporter": "python",
   "pygments_lexer": "ipython3",
   "version": "3.12.3"
  }
 },
 "nbformat": 4,
 "nbformat_minor": 5
}
