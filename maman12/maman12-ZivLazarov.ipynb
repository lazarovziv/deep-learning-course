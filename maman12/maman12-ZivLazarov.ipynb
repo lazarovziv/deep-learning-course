{
 "cells": [
  {
   "cell_type": "markdown",
   "source": [
    "Link to the explanation video: https://drive.google.com/file/d/1-A6LD5qESg0eusmVeV1nknbEsEza7EcX/view?usp=sharing"
   ],
   "metadata": {
    "collapsed": false
   },
   "id": "68a332e417c56917"
  },
  {
   "cell_type": "code",
   "execution_count": 1,
   "id": "0c600228-e8dd-494f-a07b-d75e861855ec",
   "metadata": {
    "ExecuteTime": {
     "end_time": "2024-04-22T12:11:52.336776Z",
     "start_time": "2024-04-22T12:11:51.031713Z"
    }
   },
   "outputs": [],
   "source": [
    "import torch\n",
    "import numpy as np\n",
    "import matplotlib.pyplot as plt"
   ]
  },
  {
   "cell_type": "markdown",
   "id": "cb2f6673-9f01-45e2-b583-b1edf3f5464d",
   "metadata": {},
   "source": [
    "### Q1"
   ]
  },
  {
   "cell_type": "markdown",
   "id": "c9441287-12f7-4400-9fbe-a190146e0def",
   "metadata": {},
   "source": [
    "#### Q1.a"
   ]
  },
  {
   "cell_type": "code",
   "execution_count": 2,
   "id": "00b9fd31-094c-4761-a7fb-eb1d77d6e6a7",
   "metadata": {
    "ExecuteTime": {
     "end_time": "2024-04-22T12:11:52.343294Z",
     "start_time": "2024-04-22T12:11:52.338203Z"
    }
   },
   "outputs": [],
   "source": [
    "def my_sampler(size, dist, requires_grad=False):\n",
    "    # converting the dist list to tensor for easier usage in torch functions\n",
    "    dist = torch.tensor(dist)\n",
    "    # checking the required conditions\n",
    "    if torch.sum(dist) != 1.0:\n",
    "        raise RuntimeError('Sum of probabilities is not 1!')\n",
    "    if torch.any(dist <= 0):\n",
    "        raise RuntimeError('Probabilities can\\'t be non-positive!')\n",
    "\n",
    "    u = torch.rand(size, dtype=torch.float)\n",
    "    n = len(dist)\n",
    "    # getting all indexes of when u is smaller than the cumulative sums\n",
    "    output = torch.searchsorted(torch.cumsum(dist, dim=0), u)\n",
    "    # for all u values that are smaller than p0, we set the output to 0\n",
    "    output[u < dist[0]] = 0\n",
    "    # same but for sum of first n-1 probabilities but larger and/or equal\n",
    "    output[u >= torch.sum(dist[:-1])] = n\n",
    "    # changing data type to float to be able to use requires_grad if the argument is true\n",
    "    output = output.type(torch.float)\n",
    "    output.requires_grad = requires_grad\n",
    "    return output"
   ]
  },
  {
   "cell_type": "markdown",
   "id": "5125d56c-ae8f-45ba-8e89-0e31382e0d4b",
   "metadata": {},
   "source": [
    "#### Q1.b"
   ]
  },
  {
   "cell_type": "code",
   "execution_count": 3,
   "id": "18d0d7ba-f709-4d63-aa86-76848cf7d60b",
   "metadata": {
    "scrolled": true,
    "ExecuteTime": {
     "end_time": "2024-04-22T12:11:52.372566Z",
     "start_time": "2024-04-22T12:11:52.346870Z"
    }
   },
   "outputs": [],
   "source": [
    "dist = [0.1, 0.2, 0.7]\n",
    "num_samples = 10000\n",
    "# sampling 10000 discrete random variables out of the distribution dist\n",
    "samples = my_sampler(num_samples, dist, True)"
   ]
  },
  {
   "cell_type": "code",
   "execution_count": 4,
   "id": "e78844e7-d424-4d13-a499-c74c772a1b01",
   "metadata": {
    "ExecuteTime": {
     "end_time": "2024-04-22T12:11:52.460102Z",
     "start_time": "2024-04-22T12:11:52.372844Z"
    }
   },
   "outputs": [
    {
     "data": {
      "text/plain": "(array([1004.,    0.,    0., 1987.,    0.,    0.,    0.,    0.,    0.,\n        7009.]),\n array([0. , 0.3, 0.6, 0.9, 1.2, 1.5, 1.8, 2.1, 2.4, 2.7, 3. ],\n       dtype=float32),\n <BarContainer object of 10 artists>)"
     },
     "execution_count": 4,
     "metadata": {},
     "output_type": "execute_result"
    },
    {
     "data": {
      "text/plain": "<Figure size 640x480 with 1 Axes>",
      "image/png": "[encoded data removed]"
     },
     "metadata": {},
     "output_type": "display_data"
    }
   ],
   "source": [
    "# if requires_grad = True, we need to pass the histrogram function a numpy array instead of a tensor\n",
    "plt.hist(samples.detach().numpy())"
   ]
  },
  {
   "cell_type": "markdown",
   "id": "b58b8aac-b385-46af-8b28-c54ed1fc92f2",
   "metadata": {},
   "source": [
    "#### Q1.b - Bonus"
   ]
  },
  {
   "cell_type": "code",
   "execution_count": 5,
   "id": "20b2c293-2852-4283-9a1d-85ece50ba9cb",
   "metadata": {
    "ExecuteTime": {
     "end_time": "2024-04-22T12:11:52.469128Z",
     "start_time": "2024-04-22T12:11:52.463969Z"
    }
   },
   "outputs": [],
   "source": [
    "def vose_alias_tables(dist):\n",
    "    n = len(dist)\n",
    "    # tensor for the alias table\n",
    "    alias = torch.empty(n)\n",
    "    # for the scaled distributions in the range [0, n-1]\n",
    "    prob = torch.empty(n)\n",
    "    small, large = [], []\n",
    "    scaled_dist = dist * n\n",
    "    # appending the small list the scaled probabilities that are lower than 1\n",
    "    small_indices = (scaled_dist < 1)\n",
    "    # appending the small list the indices of the probabilities that are at most 1/n\n",
    "    small.extend(list(small_indices.nonzero()))\n",
    "    # appending the large list the complement of small\n",
    "    large.extend(list((~small_indices).nonzero()))\n",
    "    # generating the prob and alias tables using the respective indices in each list\n",
    "    while small and large:\n",
    "        l = int(small.pop())\n",
    "        g = int(large.pop())\n",
    "        prob[l] = scaled_dist[l]\n",
    "        alias[l] = g\n",
    "        # decrementing 1 for more stability (could decrement the average as well)\n",
    "        scaled_dist[g] += scaled_dist[l] - 1\n",
    "        if scaled_dist[g] < 1:\n",
    "            small.append(g)\n",
    "        else:\n",
    "            large.append(g)\n",
    "\n",
    "    while large:\n",
    "        g = large.pop()\n",
    "        prob[g] = 1\n",
    "        \n",
    "    while small:\n",
    "        l = small.pop()\n",
    "        prob[l] = 1\n",
    "\n",
    "    alias = alias.type(torch.int)\n",
    "    return alias, prob"
   ]
  },
  {
   "cell_type": "code",
   "execution_count": 6,
   "id": "b355c6a7-faef-4ff1-ad10-66502c37a5fb",
   "metadata": {
    "ExecuteTime": {
     "end_time": "2024-04-22T12:11:52.475885Z",
     "start_time": "2024-04-22T12:11:52.469495Z"
    }
   },
   "outputs": [],
   "source": [
    "def my_sampler_bonus(size, dist, requires_grad=False):\n",
    "    dist = torch.tensor(dist)\n",
    "    if torch.sum(dist) != 1.0:\n",
    "        raise RuntimeError('Sum of probablities is not 1!')\n",
    "    if torch.any(dist <= 0):\n",
    "        raise RuntimeError('Probabilities can\\'t be non-positive!')\n",
    "    # creating the tables\n",
    "    alias, prob = vose_alias_tables(dist)\n",
    "    # generating the uniform random variate\n",
    "    x = torch.rand(size, dtype=torch.float)\n",
    "    n = len(dist)\n",
    "    # getting a uniformly distributed number on [0, n-1] instead [1, n] because we're working with indices\n",
    "    i = x * n\n",
    "    i = i.type(torch.int64) # for using as indices\n",
    "    # y is in [0, 1)\n",
    "    y = n * x - i\n",
    "    # getting all the elements from the respective tensors in the indices we got in the i tensor\n",
    "    U, K = torch.gather(prob, dim=0, index=i), torch.gather(alias, dim=0, index=i)\n",
    "    # setting the values accordingly\n",
    "    output = torch.where(y < U, i, K)\n",
    "    output = output.type(torch.float)\n",
    "    output.requires_grad = requires_grad\n",
    "    return output"
   ]
  },
  {
   "cell_type": "code",
   "execution_count": 7,
   "id": "f6e7bbfb-b929-48c7-8dad-e54edf651e63",
   "metadata": {
    "ExecuteTime": {
     "end_time": "2024-04-22T12:11:52.523747Z",
     "start_time": "2024-04-22T12:11:52.474819Z"
    }
   },
   "outputs": [],
   "source": [
    "samples = my_sampler_bonus(num_samples, dist, True)"
   ]
  },
  {
   "cell_type": "code",
   "execution_count": 8,
   "id": "38a07c92-2f3c-49c9-8fd6-2d6775da980e",
   "metadata": {
    "ExecuteTime": {
     "end_time": "2024-04-22T12:11:52.595918Z",
     "start_time": "2024-04-22T12:11:52.490160Z"
    }
   },
   "outputs": [
    {
     "data": {
      "text/plain": "(array([ 981.,    0.,    0.,    0.,    0., 2020.,    0.,    0.,    0.,\n        6999.]),\n array([0. , 0.2, 0.4, 0.6, 0.8, 1. , 1.2, 1.4, 1.6, 1.8, 2. ],\n       dtype=float32),\n <BarContainer object of 10 artists>)"
     },
     "execution_count": 8,
     "metadata": {},
     "output_type": "execute_result"
    },
    {
     "data": {
      "text/plain": "<Figure size 640x480 with 1 Axes>",
      "image/png": "[encoded data removed]"
     },
     "metadata": {},
     "output_type": "display_data"
    }
   ],
   "source": [
    "plt.hist(samples.detach().numpy())"
   ]
  },
  {
   "cell_type": "markdown",
   "id": "888baf3f-4039-468b-97f9-d8032378a238",
   "metadata": {},
   "source": [
    "### Q2"
   ]
  },
  {
   "cell_type": "markdown",
   "id": "5d16b30f-0168-4514-a6a0-a329d71a898d",
   "metadata": {},
   "source": [
    "#### Q2.a"
   ]
  },
  {
   "cell_type": "code",
   "execution_count": 9,
   "id": "ee300b85-9022-46c4-bbe8-1deca7643715",
   "metadata": {
    "ExecuteTime": {
     "end_time": "2024-04-22T12:11:52.603911Z",
     "start_time": "2024-04-22T12:11:52.553693Z"
    }
   },
   "outputs": [],
   "source": [
    "import math\n",
    "\n",
    "class MyScalar:\n",
    "\n",
    "    def __init__(self, value, parent=None):\n",
    "        self.value = value\n",
    "        self.derivative_value = 1\n",
    "        self.parent = parent\n",
    "        self.son = None\n",
    "        # setting the current object as the son of the parent, if exists\n",
    "        # will help in implementation of get_gradient\n",
    "        if parent:\n",
    "            parent.son = self\n",
    "            \n",
    "    # overriding some operators for easier usage\n",
    "    def __add__(self, n):\n",
    "        b = MyScalar(self.value, self)\n",
    "        b.value += n\n",
    "        # dx/dx = 1\n",
    "        b.derivative_value = 1\n",
    "        return b\n",
    "    \n",
    "    def __neg__(self):\n",
    "        self.value = -self.value\n",
    "        self.derivative_value = -self.derivative_value\n",
    "        return self\n",
    "    \n",
    "    def __mul__(self, n):\n",
    "        b = MyScalar(self.value, self)\n",
    "        b.value *= n\n",
    "        # dnx/dx = n\n",
    "        b.derivative_value = n\n",
    "        return b\n",
    "    \n",
    "    def __pow__(self, n, modulo=None):\n",
    "        b = MyScalar(self.value, self)\n",
    "        b.value = self.value ** n\n",
    "        # d(x^n)/dx = n * x^(n-1)\n",
    "        b.derivative_value = n * (self.value ** (n-1))\n",
    "        return b\n",
    "    \n",
    "    def cos(self):\n",
    "        b = MyScalar(self.value, self)\n",
    "        b.value = math.cos(self.value)\n",
    "        # dcosx/dx = -sinx\n",
    "        b.derivative_value = -math.sin(self.value)\n",
    "        return b\n",
    "    \n",
    "    def sin(self):\n",
    "        b = MyScalar(self.value, self)\n",
    "        b.value = math.sin(self.value)\n",
    "        # dsinx/dx = cosx\n",
    "        b.derivative_value = math.cos(self.value)\n",
    "        return b\n",
    "    \n",
    "    def ln(self):\n",
    "        b = MyScalar(self.value, self)\n",
    "        if self.value <= 0:\n",
    "            raise RuntimeError('Can\\'t apply the logarithm function on non-positive number!')\n",
    "        b.value = math.log(self.value)\n",
    "        # dlnx/dx = 1/x\n",
    "        b.derivative_value = 1/self.value\n",
    "        return b\n",
    "    \n",
    "    def exp(self):\n",
    "        b = MyScalar(self.value, self)\n",
    "        b.value = math.exp(self.value)\n",
    "        # de^x/dx = e^x\n",
    "        b.derivative_value = math.exp(self.value)\n",
    "        return b\n",
    "    \n",
    "    def calculate_gradients(self, derivatives, grad):\n",
    "        # reached the first independent object\n",
    "        if not self.parent:\n",
    "            derivatives[self] = grad\n",
    "            return derivatives\n",
    "        # setting the current object's gradient value to the current calculated gradient value\n",
    "        derivatives[self] = grad\n",
    "        # dz/dx = dz/dy * dy/dx\n",
    "        # applying the chain rule\n",
    "        grad *= self.derivative_value\n",
    "        # calculating the next derivative\n",
    "        self.parent.calculate_gradients(derivatives, grad)\n",
    "        return derivatives\n",
    "    \n",
    "    def get_gradient(self):\n",
    "        # self's gradient is 1 as dx/dx = 1\n",
    "        grad = 1\n",
    "        # wrapping the recursive function with default initial values for simplicity\n",
    "        return self.calculate_gradients(derivatives={}, grad=grad)\n"
   ]
  },
  {
   "cell_type": "code",
   "execution_count": 10,
   "outputs": [],
   "source": [
    "def get_grad(tensor, source_tensor, retain_graph=True):\n",
    "    # prevent from gradients to be accumulated\n",
    "    source_tensor.grad = None\n",
    "    # retaining the hierarchy graph of the tensors' definition\n",
    "    tensor.backward(retain_graph=retain_graph)\n",
    "    return tensor.grad"
   ],
   "metadata": {
    "collapsed": false,
    "ExecuteTime": {
     "end_time": "2024-04-22T12:11:52.604197Z",
     "start_time": "2024-04-22T12:11:52.557107Z"
    }
   },
   "id": "b029d9eee6103799"
  },
  {
   "cell_type": "code",
   "execution_count": 11,
   "outputs": [],
   "source": [
    "def print_address(scalar_obj, scalar_name, derivatives):\n",
    "    print(f'{scalar_name}: {derivatives[scalar_obj]}')"
   ],
   "metadata": {
    "collapsed": false,
    "ExecuteTime": {
     "end_time": "2024-04-22T12:11:52.604319Z",
     "start_time": "2024-04-22T12:11:52.561964Z"
    }
   },
   "id": "d0dc8fe2e4150366"
  },
  {
   "cell_type": "markdown",
   "source": [
    "#### Q2 - Tests"
   ],
   "metadata": {
    "collapsed": false
   },
   "id": "76ea2d6272e9414"
  },
  {
   "cell_type": "markdown",
   "source": [
    "##### Q2 - Test 1"
   ],
   "metadata": {
    "collapsed": false
   },
   "id": "95207260e5531cbf"
  },
  {
   "cell_type": "code",
   "execution_count": 12,
   "id": "e4c4b92d-e6d9-4184-978f-133b3c7f880f",
   "metadata": {
    "ExecuteTime": {
     "end_time": "2024-04-22T12:11:52.606219Z",
     "start_time": "2024-04-22T12:11:52.566503Z"
    }
   },
   "outputs": [
    {
     "name": "stdout",
     "output_type": "stream",
     "text": [
      "a: 211916883153.74185\n",
      "b: 10550720349.87998\n",
      "c: 325515.58283800783\n",
      "d: 325515.58283800783\n",
      "e: 1\n",
      "Implementation\t\t\tPyTorch\n",
      "211916883153.74185 --- tensor([2.1192e+11])\n",
      "10550720349.87998 --- tensor([1.0551e+10])\n",
      "325515.58283800783 --- tensor([325515.5938])\n",
      "325515.58283800783 --- tensor([325515.5938])\n",
      "1 --- tensor([1.])\n"
     ]
    }
   ],
   "source": [
    "a = MyScalar(3.0)\n",
    "b = a.exp()\n",
    "c = b ** 4\n",
    "d = c + 3\n",
    "e = d ** 2\n",
    "grads = e.get_gradient()\n",
    "\n",
    "scalars = {\n",
    "    'a': a,\n",
    "    'b': b,\n",
    "    'c': c,\n",
    "    'd': d,\n",
    "    'e': e\n",
    "}\n",
    "\n",
    "for key, value in scalars.items():\n",
    "    print_address(value, key, grads)\n",
    "\n",
    "a_torch = torch.tensor([3.0], requires_grad=True, dtype=torch.float)\n",
    "b_torch = torch.exp(a_torch)\n",
    "c_torch = torch.pow(b_torch, 4)\n",
    "d_torch = c_torch + 3\n",
    "e_torch = torch.pow(d_torch, 2)\n",
    "\n",
    "# for getting all gradients\n",
    "b_torch.retain_grad()\n",
    "c_torch.retain_grad()\n",
    "d_torch.retain_grad()\n",
    "e_torch.retain_grad()\n",
    "\n",
    "# calculating the gradients\n",
    "e_torch.backward()\n",
    "\n",
    "tensors = {\n",
    "    a: a_torch,\n",
    "    b: b_torch,\n",
    "    c: c_torch,\n",
    "    d: d_torch,\n",
    "    e: e_torch\n",
    "}\n",
    "print('Implementation\\t\\t\\tPyTorch')\n",
    "\n",
    "for tensor in tensors.keys():\n",
    "    print(f'{grads[tensor]} --- {tensors[tensor].grad}')"
   ]
  },
  {
   "cell_type": "markdown",
   "source": [
    "##### Q2 - Test 2"
   ],
   "metadata": {
    "collapsed": false
   },
   "id": "8bd5779ea7da3583"
  },
  {
   "cell_type": "code",
   "execution_count": 13,
   "id": "0c3384d7-21b8-4048-85ab-60cd739e780f",
   "metadata": {
    "ExecuteTime": {
     "end_time": "2024-04-22T12:11:52.615022Z",
     "start_time": "2024-04-22T12:11:52.605979Z"
    }
   },
   "outputs": [
    {
     "name": "stdout",
     "output_type": "stream",
     "text": [
      "Implementation\t\t\tPyTorch\n",
      "-4.63128512939831 --- tensor([-4.6313])\n",
      "-1.1578212823495775 --- tensor([-1.1578])\n",
      "1.5298856564663974 --- tensor([1.5299])\n",
      "1 --- tensor([1.])\n"
     ]
    }
   ],
   "source": [
    "x = MyScalar(2)\n",
    "y = x ** 2\n",
    "z = -y.cos() # setting a minus to avoid runtime error for the log function\n",
    "w = z.ln()\n",
    "grads = w.get_gradient()\n",
    "\n",
    "x_torch = torch.tensor([2], requires_grad=True, dtype=torch.float)\n",
    "y_torch = x_torch ** 2\n",
    "z_torch = -torch.cos(y_torch)\n",
    "w_torch = torch.log(z_torch)\n",
    "\n",
    "y_torch.retain_grad()\n",
    "z_torch.retain_grad()\n",
    "w_torch.retain_grad()\n",
    "\n",
    "w_torch.backward()\n",
    "\n",
    "tensors = {\n",
    "    x: x_torch,\n",
    "    y: y_torch,\n",
    "    z: z_torch,\n",
    "    w: w_torch\n",
    "}\n",
    "print('Implementation\\t\\t\\tPyTorch')\n",
    "\n",
    "for tensor in tensors.keys():\n",
    "    print(f'{grads[tensor]} --- {tensors[tensor].grad}')"
   ]
  },
  {
   "cell_type": "code",
   "execution_count": 13,
   "outputs": [],
   "source": [],
   "metadata": {
    "collapsed": false,
    "ExecuteTime": {
     "end_time": "2024-04-22T12:11:52.650804Z",
     "start_time": "2024-04-22T12:11:52.615637Z"
    }
   },
   "id": "c9874a17ddee3bdb"
  }
 ],
 "metadata": {
  "kernelspec": {
   "display_name": "Python 3 (ipykernel)",
   "language": "python",
   "name": "python3"
  },
  "language_info": {
   "codemirror_mode": {
    "name": "ipython",
    "version": 3
   },
   "file_extension": ".py",
   "mimetype": "text/x-python",
   "name": "python",
   "nbconvert_exporter": "python",
   "pygments_lexer": "ipython3",
   "version": "3.12.2"
  }
 },
 "nbformat": 4,
 "nbformat_minor": 5
}
